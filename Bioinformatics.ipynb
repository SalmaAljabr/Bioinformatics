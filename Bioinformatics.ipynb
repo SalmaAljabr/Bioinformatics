{
 "cells": [
  {
   "cell_type": "code",
   "execution_count": 1,
   "id": "bdf5e143",
   "metadata": {},
   "outputs": [
    {
     "name": "stdout",
     "output_type": "stream",
     "text": [
      "Length 38\n"
     ]
    }
   ],
   "source": [
    "def count_dna_length(dna):\n",
    "    return len(dna)\n",
    "\n",
    "\n",
    "dna_sequence = \"ATCGAGCGTAGCGTTTTTTTTTTTTTTTTTTTTTTTTT\"\n",
    "dna_length = count_dna_length(dna_sequence)\n",
    "print(\"Length\" ,dna_length )"
   ]
  },
  {
   "cell_type": "code",
   "execution_count": 5,
   "id": "e100ac86",
   "metadata": {},
   "outputs": [
    {
     "name": "stdout",
     "output_type": "stream",
     "text": [
      "mRNA: AUGCAUGCAUGC\n"
     ]
    }
   ],
   "source": [
    "def transcribe_dna_to_mrna(dna):\n",
    "    transcription = {'A': 'A', 'T': 'U', 'C': 'C', 'G': 'G'}\n",
    "    return \"\".join([transcription[nucleotide] for nucleotide in dna])\n",
    "\n",
    "dna_sequence = \"ATGCATGCATGC\"\n",
    "mrna_sequence = transcribe_dna_to_mrna(dna_sequence)\n",
    "print(\"mRNA:\", mrna_sequence)"
   ]
  },
  {
   "cell_type": "code",
   "execution_count": 6,
   "id": "040bf85d",
   "metadata": {},
   "outputs": [
    {
     "name": "stdout",
     "output_type": "stream",
     "text": [
      "Complement DNA Sequence: TAGCTCGCATCGCAAAAAAAAAAAA\n"
     ]
    }
   ],
   "source": [
    "def complement_dna(sequence):\n",
    "    complement_dict = {'A': 'T', 'T': 'A', 'C': 'G', 'G': 'C'}\n",
    "    complement_sequence = [complement_dict[base] for base in sequence]\n",
    "    return ''.join(complement_sequence)\n",
    "\n",
    "dna_sequence = \"ATCGAGCGTAGCGTTTTTTTTTTTT\"\n",
    "complement = complement_dna(dna_sequence)\n",
    "print(\"Complement DNA Sequence:\", complement)"
   ]
  },
  {
   "cell_type": "code",
   "execution_count": 9,
   "id": "07f88642",
   "metadata": {},
   "outputs": [
    {
     "name": "stdout",
     "output_type": "stream",
     "text": [
      "Protein Sequence: MAMAPRTEINSTRING\n"
     ]
    }
   ],
   "source": [
    "def translate_rna(rna_sequence):\n",
    "    codon_table = {\n",
    "        'UUU': 'F', 'UUC': 'F', 'UUA': 'L', 'UUG': 'L',\n",
    "        'CUU': 'L', 'CUC': 'L', 'CUA': 'L', 'CUG': 'L',\n",
    "        'AUU': 'I', 'AUC': 'I', 'AUA': 'I', 'AUG': 'M',\n",
    "        'GUU': 'V', 'GUC': 'V', 'GUA': 'V', 'GUG': 'V',\n",
    "        'UCU': 'S', 'UCC': 'S', 'UCA': 'S', 'UCG': 'S',\n",
    "        'CCU': 'P', 'CCC': 'P', 'CCA': 'P', 'CCG': 'P',\n",
    "        'ACU': 'T', 'ACC': 'T', 'ACA': 'T', 'ACG': 'T',\n",
    "        'GCU': 'A', 'GCC': 'A', 'GCA': 'A', 'GCG': 'A',\n",
    "        'UAU': 'Y', 'UAC': 'Y', 'UAA': 'Stop', 'UAG': 'Stop',\n",
    "        'CAU': 'H', 'CAC': 'H', 'CAA': 'Q', 'CAG': 'Q',\n",
    "        'AAU': 'N', 'AAC': 'N', 'AAA': 'K', 'AAG': 'K',\n",
    "        'GAU': 'D', 'GAC': 'D', 'GAA': 'E', 'GAG': 'E',\n",
    "        'UGU': 'C', 'UGC': 'C', 'UGA': 'Stop', 'UGG': 'W',\n",
    "        'CGU': 'R', 'CGC': 'R', 'CGA': 'R', 'CGG': 'R',\n",
    "        'AGU': 'S', 'AGC': 'S', 'AGA': 'R', 'AGG': 'R',\n",
    "        'GGU': 'G', 'GGC': 'G', 'GGA': 'G', 'GGG': 'G'\n",
    "    }\n",
    "\n",
    "    protein_sequence = ''\n",
    "    for i in range(0, len(rna_sequence), 3):\n",
    "        codon = rna_sequence[i:i + 3]\n",
    "        amino_acid = codon_table[codon]\n",
    "        if amino_acid == 'Stop':\n",
    "            break\n",
    "        protein_sequence += amino_acid\n",
    "\n",
    "    return protein_sequence\n",
    "\n",
    "\n",
    "rna_sequence = \"AUGGCCAUGGCGCCCAGAACUGAGAUCAAUAGUACCCGUAUUAACGGGUGA\"\n",
    "protein = translate_rna(rna_sequence)\n",
    "print(\"Protein Sequence:\", protein)"
   ]
  },
  {
   "cell_type": "code",
   "execution_count": 19,
   "id": "59d7e235",
   "metadata": {},
   "outputs": [
    {
     "name": "stdout",
     "output_type": "stream",
     "text": [
      "A: 6\n",
      "C: 6\n",
      "G: 6\n",
      "T: 6\n"
     ]
    }
   ],
   "source": [
    "def count_nucleotides(sequence):\n",
    "    nucleotide_counts = {'A': 0, 'T': 0, 'C': 0, 'G': 0}\n",
    "    \n",
    "    for nucleotide in sequence:\n",
    "        if nucleotide in nucleotide_counts:\n",
    "            nucleotide_counts[nucleotide] += 1\n",
    "    \n",
    "    return nucleotide_counts\n",
    "\n",
    "dna_sequence = \"AGCTAGCTAGCTAGCTAGCTAGCT\"\n",
    "nucleotide_counts = count_nucleotides(dna_sequence)\n",
    "\n",
    "print(\"A:\", nucleotide_counts['A'])\n",
    "print(\"C:\", nucleotide_counts['C'])\n",
    "print(\"G:\", nucleotide_counts['G'])\n",
    "print(\"T:\", nucleotide_counts['T'])"
   ]
  }
 ],
 "metadata": {
  "kernelspec": {
   "display_name": "Python 3 (ipykernel)",
   "language": "python",
   "name": "python3"
  },
  "language_info": {
   "codemirror_mode": {
    "name": "ipython",
    "version": 3
   },
   "file_extension": ".py",
   "mimetype": "text/x-python",
   "name": "python",
   "nbconvert_exporter": "python",
   "pygments_lexer": "ipython3",
   "version": "3.9.12"
  }
 },
 "nbformat": 4,
 "nbformat_minor": 5
}
